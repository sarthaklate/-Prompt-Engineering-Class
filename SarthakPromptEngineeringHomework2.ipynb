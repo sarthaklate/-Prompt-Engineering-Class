{
  "nbformat": 4,
  "nbformat_minor": 0,
  "metadata": {
    "colab": {
      "provenance": []
    },
    "kernelspec": {
      "name": "python3",
      "display_name": "Python 3"
    },
    "language_info": {
      "name": "python"
    }
  },
  "cells": [
    {
      "cell_type": "code",
      "execution_count": 1,
      "metadata": {
        "colab": {
          "base_uri": "https://localhost:8080/"
        },
        "id": "aPBSHJ2AlqJS",
        "outputId": "1a1d65aa-c3c7-4829-f872-77eef3a0e01b"
      },
      "outputs": [
        {
          "output_type": "stream",
          "name": "stdout",
          "text": [
            "Collecting langchain\n",
            "  Downloading langchain-0.2.14-py3-none-any.whl.metadata (7.1 kB)\n",
            "Collecting groq\n",
            "  Downloading groq-0.9.0-py3-none-any.whl.metadata (13 kB)\n",
            "Requirement already satisfied: PyYAML>=5.3 in /usr/local/lib/python3.10/dist-packages (from langchain) (6.0.2)\n",
            "Requirement already satisfied: SQLAlchemy<3,>=1.4 in /usr/local/lib/python3.10/dist-packages (from langchain) (2.0.32)\n",
            "Requirement already satisfied: aiohttp<4.0.0,>=3.8.3 in /usr/local/lib/python3.10/dist-packages (from langchain) (3.10.5)\n",
            "Requirement already satisfied: async-timeout<5.0.0,>=4.0.0 in /usr/local/lib/python3.10/dist-packages (from langchain) (4.0.3)\n",
            "Collecting langchain-core<0.3.0,>=0.2.32 (from langchain)\n",
            "  Downloading langchain_core-0.2.35-py3-none-any.whl.metadata (6.2 kB)\n",
            "Collecting langchain-text-splitters<0.3.0,>=0.2.0 (from langchain)\n",
            "  Downloading langchain_text_splitters-0.2.2-py3-none-any.whl.metadata (2.1 kB)\n",
            "Collecting langsmith<0.2.0,>=0.1.17 (from langchain)\n",
            "  Downloading langsmith-0.1.104-py3-none-any.whl.metadata (13 kB)\n",
            "Requirement already satisfied: numpy<2,>=1 in /usr/local/lib/python3.10/dist-packages (from langchain) (1.26.4)\n",
            "Requirement already satisfied: pydantic<3,>=1 in /usr/local/lib/python3.10/dist-packages (from langchain) (2.8.2)\n",
            "Requirement already satisfied: requests<3,>=2 in /usr/local/lib/python3.10/dist-packages (from langchain) (2.32.3)\n",
            "Collecting tenacity!=8.4.0,<9.0.0,>=8.1.0 (from langchain)\n",
            "  Downloading tenacity-8.5.0-py3-none-any.whl.metadata (1.2 kB)\n",
            "Requirement already satisfied: anyio<5,>=3.5.0 in /usr/local/lib/python3.10/dist-packages (from groq) (3.7.1)\n",
            "Requirement already satisfied: distro<2,>=1.7.0 in /usr/lib/python3/dist-packages (from groq) (1.7.0)\n",
            "Collecting httpx<1,>=0.23.0 (from groq)\n",
            "  Downloading httpx-0.27.2-py3-none-any.whl.metadata (7.1 kB)\n",
            "Requirement already satisfied: sniffio in /usr/local/lib/python3.10/dist-packages (from groq) (1.3.1)\n",
            "Requirement already satisfied: typing-extensions<5,>=4.7 in /usr/local/lib/python3.10/dist-packages (from groq) (4.12.2)\n",
            "Requirement already satisfied: aiohappyeyeballs>=2.3.0 in /usr/local/lib/python3.10/dist-packages (from aiohttp<4.0.0,>=3.8.3->langchain) (2.4.0)\n",
            "Requirement already satisfied: aiosignal>=1.1.2 in /usr/local/lib/python3.10/dist-packages (from aiohttp<4.0.0,>=3.8.3->langchain) (1.3.1)\n",
            "Requirement already satisfied: attrs>=17.3.0 in /usr/local/lib/python3.10/dist-packages (from aiohttp<4.0.0,>=3.8.3->langchain) (24.2.0)\n",
            "Requirement already satisfied: frozenlist>=1.1.1 in /usr/local/lib/python3.10/dist-packages (from aiohttp<4.0.0,>=3.8.3->langchain) (1.4.1)\n",
            "Requirement already satisfied: multidict<7.0,>=4.5 in /usr/local/lib/python3.10/dist-packages (from aiohttp<4.0.0,>=3.8.3->langchain) (6.0.5)\n",
            "Requirement already satisfied: yarl<2.0,>=1.0 in /usr/local/lib/python3.10/dist-packages (from aiohttp<4.0.0,>=3.8.3->langchain) (1.9.4)\n",
            "Requirement already satisfied: idna>=2.8 in /usr/local/lib/python3.10/dist-packages (from anyio<5,>=3.5.0->groq) (3.7)\n",
            "Requirement already satisfied: exceptiongroup in /usr/local/lib/python3.10/dist-packages (from anyio<5,>=3.5.0->groq) (1.2.2)\n",
            "Requirement already satisfied: certifi in /usr/local/lib/python3.10/dist-packages (from httpx<1,>=0.23.0->groq) (2024.7.4)\n",
            "Collecting httpcore==1.* (from httpx<1,>=0.23.0->groq)\n",
            "  Downloading httpcore-1.0.5-py3-none-any.whl.metadata (20 kB)\n",
            "Collecting h11<0.15,>=0.13 (from httpcore==1.*->httpx<1,>=0.23.0->groq)\n",
            "  Downloading h11-0.14.0-py3-none-any.whl.metadata (8.2 kB)\n",
            "Collecting jsonpatch<2.0,>=1.33 (from langchain-core<0.3.0,>=0.2.32->langchain)\n",
            "  Downloading jsonpatch-1.33-py2.py3-none-any.whl.metadata (3.0 kB)\n",
            "Requirement already satisfied: packaging<25,>=23.2 in /usr/local/lib/python3.10/dist-packages (from langchain-core<0.3.0,>=0.2.32->langchain) (24.1)\n",
            "Collecting orjson<4.0.0,>=3.9.14 (from langsmith<0.2.0,>=0.1.17->langchain)\n",
            "  Downloading orjson-3.10.7-cp310-cp310-manylinux_2_17_x86_64.manylinux2014_x86_64.whl.metadata (50 kB)\n",
            "\u001b[2K     \u001b[90m━━━━━━━━━━━━━━━━━━━━━━━━━━━━━━━━━━━━━━━━\u001b[0m \u001b[32m50.4/50.4 kB\u001b[0m \u001b[31m1.6 MB/s\u001b[0m eta \u001b[36m0:00:00\u001b[0m\n",
            "\u001b[?25hRequirement already satisfied: annotated-types>=0.4.0 in /usr/local/lib/python3.10/dist-packages (from pydantic<3,>=1->langchain) (0.7.0)\n",
            "Requirement already satisfied: pydantic-core==2.20.1 in /usr/local/lib/python3.10/dist-packages (from pydantic<3,>=1->langchain) (2.20.1)\n",
            "Requirement already satisfied: charset-normalizer<4,>=2 in /usr/local/lib/python3.10/dist-packages (from requests<3,>=2->langchain) (3.3.2)\n",
            "Requirement already satisfied: urllib3<3,>=1.21.1 in /usr/local/lib/python3.10/dist-packages (from requests<3,>=2->langchain) (2.0.7)\n",
            "Requirement already satisfied: greenlet!=0.4.17 in /usr/local/lib/python3.10/dist-packages (from SQLAlchemy<3,>=1.4->langchain) (3.0.3)\n",
            "Collecting jsonpointer>=1.9 (from jsonpatch<2.0,>=1.33->langchain-core<0.3.0,>=0.2.32->langchain)\n",
            "  Downloading jsonpointer-3.0.0-py2.py3-none-any.whl.metadata (2.3 kB)\n",
            "Downloading langchain-0.2.14-py3-none-any.whl (997 kB)\n",
            "\u001b[2K   \u001b[90m━━━━━━━━━━━━━━━━━━━━━━━━━━━━━━━━━━━━━━━━\u001b[0m \u001b[32m997.8/997.8 kB\u001b[0m \u001b[31m39.0 MB/s\u001b[0m eta \u001b[36m0:00:00\u001b[0m\n",
            "\u001b[?25hDownloading groq-0.9.0-py3-none-any.whl (103 kB)\n",
            "\u001b[2K   \u001b[90m━━━━━━━━━━━━━━━━━━━━━━━━━━━━━━━━━━━━━━━━\u001b[0m \u001b[32m103.5/103.5 kB\u001b[0m \u001b[31m6.4 MB/s\u001b[0m eta \u001b[36m0:00:00\u001b[0m\n",
            "\u001b[?25hDownloading httpx-0.27.2-py3-none-any.whl (76 kB)\n",
            "\u001b[2K   \u001b[90m━━━━━━━━━━━━━━━━━━━━━━━━━━━━━━━━━━━━━━━━\u001b[0m \u001b[32m76.4/76.4 kB\u001b[0m \u001b[31m3.1 MB/s\u001b[0m eta \u001b[36m0:00:00\u001b[0m\n",
            "\u001b[?25hDownloading httpcore-1.0.5-py3-none-any.whl (77 kB)\n",
            "\u001b[2K   \u001b[90m━━━━━━━━━━━━━━━━━━━━━━━━━━━━━━━━━━━━━━━━\u001b[0m \u001b[32m77.9/77.9 kB\u001b[0m \u001b[31m3.6 MB/s\u001b[0m eta \u001b[36m0:00:00\u001b[0m\n",
            "\u001b[?25hDownloading langchain_core-0.2.35-py3-none-any.whl (394 kB)\n",
            "\u001b[2K   \u001b[90m━━━━━━━━━━━━━━━━━━━━━━━━━━━━━━━━━━━━━━━━\u001b[0m \u001b[32m394.9/394.9 kB\u001b[0m \u001b[31m16.8 MB/s\u001b[0m eta \u001b[36m0:00:00\u001b[0m\n",
            "\u001b[?25hDownloading langchain_text_splitters-0.2.2-py3-none-any.whl (25 kB)\n",
            "Downloading langsmith-0.1.104-py3-none-any.whl (149 kB)\n",
            "\u001b[2K   \u001b[90m━━━━━━━━━━━━━━━━━━━━━━━━━━━━━━━━━━━━━━━━\u001b[0m \u001b[32m149.1/149.1 kB\u001b[0m \u001b[31m9.9 MB/s\u001b[0m eta \u001b[36m0:00:00\u001b[0m\n",
            "\u001b[?25hDownloading tenacity-8.5.0-py3-none-any.whl (28 kB)\n",
            "Downloading jsonpatch-1.33-py2.py3-none-any.whl (12 kB)\n",
            "Downloading orjson-3.10.7-cp310-cp310-manylinux_2_17_x86_64.manylinux2014_x86_64.whl (141 kB)\n",
            "\u001b[2K   \u001b[90m━━━━━━━━━━━━━━━━━━━━━━━━━━━━━━━━━━━━━━━━\u001b[0m \u001b[32m141.9/141.9 kB\u001b[0m \u001b[31m9.5 MB/s\u001b[0m eta \u001b[36m0:00:00\u001b[0m\n",
            "\u001b[?25hDownloading h11-0.14.0-py3-none-any.whl (58 kB)\n",
            "\u001b[2K   \u001b[90m━━━━━━━━━━━━━━━━━━━━━━━━━━━━━━━━━━━━━━━━\u001b[0m \u001b[32m58.3/58.3 kB\u001b[0m \u001b[31m3.6 MB/s\u001b[0m eta \u001b[36m0:00:00\u001b[0m\n",
            "\u001b[?25hDownloading jsonpointer-3.0.0-py2.py3-none-any.whl (7.6 kB)\n",
            "Installing collected packages: tenacity, orjson, jsonpointer, h11, jsonpatch, httpcore, httpx, langsmith, groq, langchain-core, langchain-text-splitters, langchain\n",
            "  Attempting uninstall: tenacity\n",
            "    Found existing installation: tenacity 9.0.0\n",
            "    Uninstalling tenacity-9.0.0:\n",
            "      Successfully uninstalled tenacity-9.0.0\n",
            "Successfully installed groq-0.9.0 h11-0.14.0 httpcore-1.0.5 httpx-0.27.2 jsonpatch-1.33 jsonpointer-3.0.0 langchain-0.2.14 langchain-core-0.2.35 langchain-text-splitters-0.2.2 langsmith-0.1.104 orjson-3.10.7 tenacity-8.5.0\n",
            "Collecting langchain-groq\n",
            "  Downloading langchain_groq-0.1.9-py3-none-any.whl.metadata (2.9 kB)\n",
            "Requirement already satisfied: groq in /usr/local/lib/python3.10/dist-packages (0.9.0)\n",
            "Requirement already satisfied: langchain-core<0.3.0,>=0.2.26 in /usr/local/lib/python3.10/dist-packages (from langchain-groq) (0.2.35)\n",
            "Requirement already satisfied: anyio<5,>=3.5.0 in /usr/local/lib/python3.10/dist-packages (from groq) (3.7.1)\n",
            "Requirement already satisfied: distro<2,>=1.7.0 in /usr/lib/python3/dist-packages (from groq) (1.7.0)\n",
            "Requirement already satisfied: httpx<1,>=0.23.0 in /usr/local/lib/python3.10/dist-packages (from groq) (0.27.2)\n",
            "Requirement already satisfied: pydantic<3,>=1.9.0 in /usr/local/lib/python3.10/dist-packages (from groq) (2.8.2)\n",
            "Requirement already satisfied: sniffio in /usr/local/lib/python3.10/dist-packages (from groq) (1.3.1)\n",
            "Requirement already satisfied: typing-extensions<5,>=4.7 in /usr/local/lib/python3.10/dist-packages (from groq) (4.12.2)\n",
            "Requirement already satisfied: idna>=2.8 in /usr/local/lib/python3.10/dist-packages (from anyio<5,>=3.5.0->groq) (3.7)\n",
            "Requirement already satisfied: exceptiongroup in /usr/local/lib/python3.10/dist-packages (from anyio<5,>=3.5.0->groq) (1.2.2)\n",
            "Requirement already satisfied: certifi in /usr/local/lib/python3.10/dist-packages (from httpx<1,>=0.23.0->groq) (2024.7.4)\n",
            "Requirement already satisfied: httpcore==1.* in /usr/local/lib/python3.10/dist-packages (from httpx<1,>=0.23.0->groq) (1.0.5)\n",
            "Requirement already satisfied: h11<0.15,>=0.13 in /usr/local/lib/python3.10/dist-packages (from httpcore==1.*->httpx<1,>=0.23.0->groq) (0.14.0)\n",
            "Requirement already satisfied: PyYAML>=5.3 in /usr/local/lib/python3.10/dist-packages (from langchain-core<0.3.0,>=0.2.26->langchain-groq) (6.0.2)\n",
            "Requirement already satisfied: jsonpatch<2.0,>=1.33 in /usr/local/lib/python3.10/dist-packages (from langchain-core<0.3.0,>=0.2.26->langchain-groq) (1.33)\n",
            "Requirement already satisfied: langsmith<0.2.0,>=0.1.75 in /usr/local/lib/python3.10/dist-packages (from langchain-core<0.3.0,>=0.2.26->langchain-groq) (0.1.104)\n",
            "Requirement already satisfied: packaging<25,>=23.2 in /usr/local/lib/python3.10/dist-packages (from langchain-core<0.3.0,>=0.2.26->langchain-groq) (24.1)\n",
            "Requirement already satisfied: tenacity!=8.4.0,<9.0.0,>=8.1.0 in /usr/local/lib/python3.10/dist-packages (from langchain-core<0.3.0,>=0.2.26->langchain-groq) (8.5.0)\n",
            "Requirement already satisfied: annotated-types>=0.4.0 in /usr/local/lib/python3.10/dist-packages (from pydantic<3,>=1.9.0->groq) (0.7.0)\n",
            "Requirement already satisfied: pydantic-core==2.20.1 in /usr/local/lib/python3.10/dist-packages (from pydantic<3,>=1.9.0->groq) (2.20.1)\n",
            "Requirement already satisfied: jsonpointer>=1.9 in /usr/local/lib/python3.10/dist-packages (from jsonpatch<2.0,>=1.33->langchain-core<0.3.0,>=0.2.26->langchain-groq) (3.0.0)\n",
            "Requirement already satisfied: orjson<4.0.0,>=3.9.14 in /usr/local/lib/python3.10/dist-packages (from langsmith<0.2.0,>=0.1.75->langchain-core<0.3.0,>=0.2.26->langchain-groq) (3.10.7)\n",
            "Requirement already satisfied: requests<3,>=2 in /usr/local/lib/python3.10/dist-packages (from langsmith<0.2.0,>=0.1.75->langchain-core<0.3.0,>=0.2.26->langchain-groq) (2.32.3)\n",
            "Requirement already satisfied: charset-normalizer<4,>=2 in /usr/local/lib/python3.10/dist-packages (from requests<3,>=2->langsmith<0.2.0,>=0.1.75->langchain-core<0.3.0,>=0.2.26->langchain-groq) (3.3.2)\n",
            "Requirement already satisfied: urllib3<3,>=1.21.1 in /usr/local/lib/python3.10/dist-packages (from requests<3,>=2->langsmith<0.2.0,>=0.1.75->langchain-core<0.3.0,>=0.2.26->langchain-groq) (2.0.7)\n",
            "Downloading langchain_groq-0.1.9-py3-none-any.whl (14 kB)\n",
            "Installing collected packages: langchain-groq\n",
            "Successfully installed langchain-groq-0.1.9\n",
            "Collecting openai\n",
            "  Downloading openai-1.42.0-py3-none-any.whl.metadata (22 kB)\n",
            "Requirement already satisfied: anyio<5,>=3.5.0 in /usr/local/lib/python3.10/dist-packages (from openai) (3.7.1)\n",
            "Requirement already satisfied: distro<2,>=1.7.0 in /usr/lib/python3/dist-packages (from openai) (1.7.0)\n",
            "Requirement already satisfied: httpx<1,>=0.23.0 in /usr/local/lib/python3.10/dist-packages (from openai) (0.27.2)\n",
            "Collecting jiter<1,>=0.4.0 (from openai)\n",
            "  Downloading jiter-0.5.0-cp310-cp310-manylinux_2_17_x86_64.manylinux2014_x86_64.whl.metadata (3.6 kB)\n",
            "Requirement already satisfied: pydantic<3,>=1.9.0 in /usr/local/lib/python3.10/dist-packages (from openai) (2.8.2)\n",
            "Requirement already satisfied: sniffio in /usr/local/lib/python3.10/dist-packages (from openai) (1.3.1)\n",
            "Requirement already satisfied: tqdm>4 in /usr/local/lib/python3.10/dist-packages (from openai) (4.66.5)\n",
            "Requirement already satisfied: typing-extensions<5,>=4.11 in /usr/local/lib/python3.10/dist-packages (from openai) (4.12.2)\n",
            "Requirement already satisfied: idna>=2.8 in /usr/local/lib/python3.10/dist-packages (from anyio<5,>=3.5.0->openai) (3.7)\n",
            "Requirement already satisfied: exceptiongroup in /usr/local/lib/python3.10/dist-packages (from anyio<5,>=3.5.0->openai) (1.2.2)\n",
            "Requirement already satisfied: certifi in /usr/local/lib/python3.10/dist-packages (from httpx<1,>=0.23.0->openai) (2024.7.4)\n",
            "Requirement already satisfied: httpcore==1.* in /usr/local/lib/python3.10/dist-packages (from httpx<1,>=0.23.0->openai) (1.0.5)\n",
            "Requirement already satisfied: h11<0.15,>=0.13 in /usr/local/lib/python3.10/dist-packages (from httpcore==1.*->httpx<1,>=0.23.0->openai) (0.14.0)\n",
            "Requirement already satisfied: annotated-types>=0.4.0 in /usr/local/lib/python3.10/dist-packages (from pydantic<3,>=1.9.0->openai) (0.7.0)\n",
            "Requirement already satisfied: pydantic-core==2.20.1 in /usr/local/lib/python3.10/dist-packages (from pydantic<3,>=1.9.0->openai) (2.20.1)\n",
            "Downloading openai-1.42.0-py3-none-any.whl (362 kB)\n",
            "\u001b[2K   \u001b[90m━━━━━━━━━━━━━━━━━━━━━━━━━━━━━━━━━━━━━━━━\u001b[0m \u001b[32m362.9/362.9 kB\u001b[0m \u001b[31m20.5 MB/s\u001b[0m eta \u001b[36m0:00:00\u001b[0m\n",
            "\u001b[?25hDownloading jiter-0.5.0-cp310-cp310-manylinux_2_17_x86_64.manylinux2014_x86_64.whl (318 kB)\n",
            "\u001b[2K   \u001b[90m━━━━━━━━━━━━━━━━━━━━━━━━━━━━━━━━━━━━━━━━\u001b[0m \u001b[32m318.9/318.9 kB\u001b[0m \u001b[31m20.1 MB/s\u001b[0m eta \u001b[36m0:00:00\u001b[0m\n",
            "\u001b[?25hInstalling collected packages: jiter, openai\n",
            "Successfully installed jiter-0.5.0 openai-1.42.0\n"
          ]
        }
      ],
      "source": [
        "!pip install langchain groq\n",
        "!pip install langchain-groq groq\n",
        "!pip install openai\n"
      ]
    },
    {
      "cell_type": "code",
      "source": [
        "from langchain_groq import ChatGroq\n",
        "from langchain.chains import LLMChain, SimpleSequentialChain\n",
        "from langchain_core.messages import AIMessage, HumanMessage, SystemMessage\n",
        "from langchain.prompts import Prompt\n",
        "from langchain import PromptTemplate, LLMChain\n",
        "import os\n",
        "\n",
        "# Set your Groq API key\n",
        "os.environ[\"GROQ_API_KEY\"] = \"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\"\n",
        "\n",
        "# Initialize the Groq LLM\n",
        "llm = ChatGroq(model_name=\"mixtral-8x7b-32768\")"
      ],
      "metadata": {
        "id": "nqcgrbV4p_BU"
      },
      "execution_count": null,
      "outputs": []
    },
    {
      "cell_type": "code",
      "source": [
        "example = \"\"\"\n",
        "Question:\" factory produces screws and bolts. It takes 2 hours to produce 100 screws and 3 hours to produce 200 bolts.\n",
        "If the factory has 8 hours of production time available, how many screws and bolts can it produce?\"\n",
        "\n",
        "\"\"\"\n",
        "human_message = HumanMessage(content=example)\n",
        "system_message = SystemMessage(content=\"You are helpful assistant.\")\n",
        "\n",
        "\n",
        "new_prompt = (system_message + human_message)\n",
        "\n",
        "print (f\"Prompt: {new_prompt}\")\n",
        "\n",
        "chain = LLMChain(llm=llm, prompt=new_prompt)\n",
        "reponse = chain.run({})\n",
        "print(f\"Response: {reponse}\")\n",
        "\n",
        "\n",
        "\n"
      ],
      "metadata": {
        "colab": {
          "base_uri": "https://localhost:8080/"
        },
        "id": "COKEs4ztseKa",
        "outputId": "a090ec99-4d81-4835-d06f-a09d13758588"
      },
      "execution_count": null,
      "outputs": [
        {
          "output_type": "stream",
          "name": "stdout",
          "text": [
            "Prompt: input_variables=[] messages=[SystemMessage(content='You are helpful assistant.'), HumanMessage(content='\\nQuestion:\" factory produces screws and bolts. It takes 2 hours to produce 100 screws and 3 hours to produce 200 bolts. \\nIf the factory has 8 hours of production time available, how many screws and bolts can it produce?\"\\n\\n')]\n",
            "Response: Sure, I can help you with that!\n",
            "\n",
            "First, let's determine how many screws can be produced in 8 hours. Since it takes 2 hours to produce 100 screws, it takes 2 hours to produce 100 * (8/2) = 400 screws in 8 hours.\n",
            "\n",
            "Next, let's determine how many bolts can be produced in 8 hours. Since it takes 3 hours to produce 200 bolts, it takes 3 hours to produce 200 * (8/3) = 533.33 bolts. However, since the factory cannot produce a fraction of a bolt, it can only produce 533 bolts in 8 hours.\n",
            "\n",
            "Therefore, the factory can produce 400 screws and 533 bolts in 8 hours.\n"
          ]
        }
      ]
    },
    {
      "cell_type": "code",
      "source": [
        "example=\"\"\"\n",
        "Question:\"A farmer has 120 apples and 80 oranges. He wants to pack them into boxes such that each box contains an equal number of apples and oranges. If each box contains 4 apples and 2 oranges, how many boxes can the farmer fill, and how many fruits will be left over?\"\n",
        "\"\"\"\n",
        "\n",
        "human_message = HumanMessage(content=example)\n",
        "system_message = SystemMessage(content=\"You are helpful assistant.\")\n",
        "\n",
        "\n",
        "new_prompt = (system_message + human_message)\n",
        "\n",
        "print (f\"Prompt: {new_prompt}\")\n",
        "\n",
        "chain = LLMChain(llm=llm, prompt=new_prompt)\n",
        "reponse = chain.run({})\n",
        "print(f\"Response: {reponse}\")\n",
        "\n"
      ],
      "metadata": {
        "colab": {
          "base_uri": "https://localhost:8080/"
        },
        "id": "M0z1J9QK1qVO",
        "outputId": "29fc813c-fcbc-4d7f-bfa4-05dffda3edd0"
      },
      "execution_count": null,
      "outputs": [
        {
          "output_type": "stream",
          "name": "stdout",
          "text": [
            "Prompt: input_variables=[] messages=[SystemMessage(content='You are helpful assistant.'), HumanMessage(content='\\nQuestion:\"A farmer has 120 apples and 80 oranges. He wants to pack them into boxes such that each box contains an equal number of apples and oranges. If each box contains 4 apples and 2 oranges, how many boxes can the farmer fill, and how many fruits will be left over?\"\\n')]\n",
            "Response: To determine the number of boxes the farmer can fill, we need to find the greatest common divisor (GCD) of the number of apples and oranges, which is the largest number that divides both numbers without leaving a remainder.\n",
            "\n",
            "Apples = 120\n",
            "Oranges = 80\n",
            "\n",
            "Let's find the GCD using the Euclidean algorithm:\n",
            "\n",
            "1. Divide the larger number by the smaller number and find the remainder:\n",
            "   120 ÷ 80 = 1, remainder 40\n",
            "\n",
            "2. Replace the larger number with the smaller number, and the smaller number with the remainder:\n",
            "   New larger number = 80\n",
            "   New smaller number = 40\n",
            "\n",
            "3. Repeat steps 1 and 2 until the remainder is zero:\n",
            "   80 ÷ 40 = 2, remainder 0\n",
            "\n",
            "The GCD of 120 and 80 is 40. This means the farmer can pack an equal number of apples and oranges in boxes if each box contains 40 fruits (20 apples and 20 oranges). However, the farmer has only 120 apples and 80 oranges. To find out how many boxes he can fill, we divide the number of apples and oranges by the GCD:\n",
            "\n",
            "Number of boxes for apples = 120 ÷ 40 = 3\n",
            "Number of boxes for oranges = 80 ÷ 40 = 2\n",
            "\n",
            "Since the number of boxes for apples is greater than the number of boxes for oranges, the farmer can only fill boxes using the number of oranges:\n",
            "\n",
            "Number of boxes = 2\n",
            "\n",
            "Now, let's calculate the number of leftover fruits. We subtract the number of fruits in the boxes from the total number of fruits:\n",
            "\n",
            "Leftover apples = 120 - (2 * 40) = 120 - 80 = 40\n",
            "Leftover oranges = 80 - (2 * 40) = 80 - 80 = 0\n",
            "\n",
            "So, the farmer can fill 2 boxes with 20 apples and 20 oranges each, and there will be 40 leftover apples and no leftover oranges.\n"
          ]
        }
      ]
    },
    {
      "cell_type": "markdown",
      "source": [
        "Q 2)Develop a prompt-chaining system that generates a short story based on user input. The\n",
        "system should use multiple prompts in sequence, with each prompt building on the output of the\n",
        "previous one.\n",
        "Task:\n",
        "● Create a series of at least 3 prompts that will be chained together.\n",
        "● The first prompt should ask for a genre and main character.\n",
        "● Subsequent prompts should build on previous outputs to develop the plot and\n",
        "conclusion.\n",
        "● Implement the chaining logic to pass information between prompts.\n",
        "● Allow the user to input the initial genre and main character.\n",
        "● Output the final story generated through the chain"
      ],
      "metadata": {
        "id": "KAYa0YvSeSAa"
      }
    },
    {
      "cell_type": "code",
      "source": [
        "system_message = SystemMessage(content=\"You are a creative assistant for generating short stories.\")\n",
        "\n",
        "# Prompt 1: Get genre and main character\n",
        "initial_prompt = HumanMessage(content=\"Provide a genre and a main character for a short story.\")\n",
        "\n",
        "# Create the chain and get the genre and character\n",
        "chain1 = LLMChain(llm=llm, prompt=system_message + initial_prompt)\n",
        "response1 = chain1.run({})\n",
        "\n",
        "try:\n",
        "    genre, character = response1.split(', ')\n",
        "except ValueError as e:\n",
        "    print(f\"Error parsing response: {e}\")\n",
        "    genre, character = None, None\n",
        "\n",
        "\n",
        "response1 = \"Adventure, Jumanji Welcome to Jungle\"\n",
        "print(f\"Genre: {genre}, \\nCharacter: {character}\")\n",
        "\n",
        "\n",
        "plot_prompt = HumanMessage(content=f\"Based on the genre '{genre}' and the main character '{character}', write a brief plot outline for a short story.\")\n",
        "\n",
        "\n",
        "chain2 = LLMChain(llm=llm, prompt=system_message + plot_prompt)\n",
        "plot = chain2.run({})\n",
        "\n",
        "\n",
        "conclusion_prompt = HumanMessage(content=f\"Based on the plot outline provided, write the conclusion for the short story.\")\n",
        "\n",
        "\n",
        "chain3 = LLMChain(llm=llm, prompt=system_message + conclusion_prompt)\n",
        "conclusion = chain3.run({})\n",
        "\n",
        "\n",
        "final_story = f\"Genre: {genre}\\nMain Character: {character}\\nPlot: {plot}\\nConclusion: {conclusion}\"\n",
        "print(final_story)"
      ],
      "metadata": {
        "colab": {
          "base_uri": "https://localhost:8080/"
        },
        "id": "fBDWdv__eeTi",
        "outputId": "8b1ef913-497f-4a61-a81b-c8b2071decb0"
      },
      "execution_count": null,
      "outputs": [
        {
          "output_type": "stream",
          "name": "stdout",
          "text": [
            "Error parsing response: too many values to unpack (expected 2)\n",
            "Genre: None, \n",
            "Character: None\n",
            "Genre: None\n",
            "Main Character: None\n",
            "Plot: Title: The Infinite Blank\n",
            "\n",
            "In a world where everything is written, a mysterious entity known as The Author arises. This entity has the power to create stories, but instead of filling the pages with words, they leave them blank. Intrigued by this unusual behavior, the other authors and the Council of Storytellers decide to investigate. \n",
            "\n",
            "They discover The Author is a young, unassuming individual who claims they want to give readers the freedom to create their own stories within the blank pages. The Council, however, sees this as a threat to their power and authority. They demand The Author fills the pages, but The Author refuses, leading to a heated conflict.\n",
            "\n",
            "As the story unfolds, the readers discover that the blank pages are not empty but contain infinite possibilities. The Author's stories become a symbol of hope and freedom, inspiring a revolution against the Council's tyranny. The tale concludes with The Author's triumph, proving that sometimes, the most powerful stories are those left untold.\n",
            "Conclusion: Plot Outline: A young girl, Lily, discovers a magical seed that can grant one wish. She decides to use it to bring back her deceased mother, but instead, the seed brings back a clone of her mother who lacks all the warmth and love of the original.\n",
            "\n",
            "Conclusion:\n",
            "\n",
            "In the end, Lily was left with a hollow replica of her beloved mother. The clone could mimic her mother's actions and words, but it lacked the genuine love and affection that Lily craved. Lily soon realized that the true essence of her mother was not in her physical form, but in the memories and love they shared.\n",
            "\n",
            "With a heavy heart, Lily made the painful decision to let go of the clone. She took the magical seed and, with tears in her eyes, wished for her mother's love to be forever present in her life. As she did so, a warm, comforting presence enveloped her, filling her heart with a sense of peace and love.\n",
            "\n",
            "Lily understood then that her mother's love was never gone; it was simply transformed. From that day forward, Lily cherished the memories of her mother and the love they shared, knowing that it would stay with her forever. The magical seed had taught her a valuable lesson - that love is not bound by physical presence, but lives on in the hearts of those who cherish it.\n"
          ]
        }
      ]
    },
    {
      "cell_type": "markdown",
      "source": [
        "Q3)Implement a Tree-of-Thought prompting system to solve a complex problem. The system should\n",
        "explore multiple paths of reasoning and select the most promising one.\n",
        "Task:\n",
        "● Create a function that takes a complex problem as input.\n",
        "● Generate at least 3 different initial approaches to solving the problem.\n",
        "● For each approach, develop 2-3 possible next steps.\n",
        "● Implement a method to evaluate the promise of each path.\n",
        "● Select the most promising path and generate a final solution.\n",
        "● Test your system with the following problem:\n",
        "Problem: \"Design a sustainable urban transportation system for a city of 1 million people.\n",
        "Consider factors such as environmental impact, cost-effectiveness, and accessibility for all\n",
        "residents"
      ],
      "metadata": {
        "id": "w2i-D2bNf8TA"
      }
    },
    {
      "cell_type": "code",
      "source": [
        "first_prompt = PromptTemplate(\n",
        "    input_variables=[\"topic\"],\n",
        "    template=\"Write a short introduction about {topic}.\"\n",
        ")\n",
        "\n",
        "# Second prompt template\n",
        "second_prompt = PromptTemplate(\n",
        "    input_variables=[\"introduction\"],\n",
        "    template=\"Based on this introduction, suggest 3 key points to expand upon: {introduction}\"\n",
        ")\n",
        "\n",
        "# Third prompt template\n",
        "third_prompt = PromptTemplate(\n",
        "    input_variables=[\"key_points\"],\n",
        "    template=\"For each of these key points, provide a brief explanation: {key_points}\"\n",
        ")\n",
        "\n",
        "# Create chains\n",
        "chain_one = LLMChain(llm=llm, prompt=first_prompt)\n",
        "chain_two = LLMChain(llm=llm, prompt=second_prompt)\n",
        "chain_three = LLMChain(llm=llm, prompt=third_prompt)\n",
        "\n",
        "# Create the sequential chain\n",
        "overall_chain = SimpleSequentialChain(\n",
        "    chains=[chain_one, chain_two, chain_three],\n",
        "    verbose=True\n",
        ")\n",
        "\n",
        "# Run the chain\n",
        "topic = \"Create a comprehensive network of charging stations for electric vehicles throughout the city\"\n",
        "result = overall_chain.run(topic)\n",
        "\n",
        "print(result)\n"
      ],
      "metadata": {
        "colab": {
          "base_uri": "https://localhost:8080/"
        },
        "id": "3TTOZctgfnLc",
        "outputId": "19641cf5-30ba-464f-9bf2-77750204223c"
      },
      "execution_count": null,
      "outputs": [
        {
          "output_type": "stream",
          "name": "stdout",
          "text": [
            "\n",
            "\n",
            "\u001b[1m> Entering new SimpleSequentialChain chain...\u001b[0m\n",
            "\u001b[36;1m\u001b[1;3mCreating a comprehensive network of charging stations for electric vehicles (EVs) throughout a city is crucial for the widespread adoption of EVs as a clean and sustainable mode of transportation. A well-planned and accessible charging infrastructure can help alleviate range anxiety, reduce greenhouse gas emissions, and promote economic growth. By strategically installing charging stations in key locations such as residential areas, commercial districts, and public spaces, cities can encourage EV usage and support the transition to a more sustainable urban mobility ecosystem. This network should include a mix of fast-charging and level 2 stations, prioritize the use of renewable energy sources, and be integrated with smart technologies for efficient and convenient charging experiences.\u001b[0m\n",
            "\u001b[33;1m\u001b[1;3m1. Alleviating range anxiety: A major concern for potential electric vehicle (EV) adopters is range anxiety, or the fear of running out of charge during a trip. By creating a dense network of charging stations, cities can assuage these concerns and make EVs a more practical option for daily use. This can be achieved by installing charging stations in strategic locations such as residential areas, workplaces, and public spaces, ensuring that EV users always have access to a charging point within a reasonable distance. Additionally, incorporating fast-charging stations into the network can significantly reduce charging times, further easing range anxiety and promoting EV adoption.\n",
            "\n",
            "2. Reducing greenhouse gas emissions: A transition to electric vehicles is essential for reducing greenhouse gas emissions and combating climate change. A comprehensive charging infrastructure can help accelerate this transition by making EVs a more accessible and convenient choice for urban mobility. Cities can further enhance the environmental benefits of EVs by prioritizing the use of renewable energy sources, such as solar or wind power, for charging stations. This not only reduces the carbon footprint associated with EV charging but also supports the growth of clean energy markets.\n",
            "\n",
            "3. Promoting economic growth: Investing in a charging infrastructure for electric vehicles can drive economic growth in several ways. First, the development and installation of charging stations can create jobs and stimulate local economies. Second, by attracting EV users to commercial districts with accessible charging options, cities can boost business activity and revenues. Lastly, as the adoption of EVs increases, there will be a growing demand for related products and services, such as battery manufacturing and maintenance, leading to new business opportunities and further economic growth.\u001b[0m\n",
            "\u001b[38;5;200m\u001b[1;3m1. Alleviating range anxiety: Range anxiety is a significant concern for potential electric vehicle (EV) adopters, as they fear running out of charge during trips. By creating a dense network of charging stations in strategic locations like residential areas, workplaces, and public spaces, cities can address these concerns and make EVs a more practical daily transportation option. Fast-charging stations can further reduce charging times, making EVs even more appealing and promoting their adoption.\n",
            "\n",
            "2. Reducing greenhouse gas emissions: Transitioning to electric vehicles (EVs) is crucial for reducing greenhouse gas emissions and mitigating climate change. A comprehensive charging infrastructure can hasten this transition by making EVs a more accessible and convenient choice for urban mobility. Cities can enhance the environmental benefits of EVs by prioritizing renewable energy sources, such as solar or wind power, for charging stations. This approach not only decreases the carbon footprint associated with EV charging but also supports the expansion of clean energy markets.\n",
            "\n",
            "3. Promoting economic growth: Investing in EV charging infrastructure can stimulate economic growth through several channels. First, the development and installation of charging stations can generate jobs and stimulate local economies. Second, by providing accessible charging options in commercial districts, cities can attract EV users, boosting business activity and revenues. Lastly, as EV adoption increases, the demand for related products and services, such as battery manufacturing and maintenance, will grow, leading to new business opportunities and further economic growth.\u001b[0m\n",
            "\n",
            "\u001b[1m> Finished chain.\u001b[0m\n",
            "1. Alleviating range anxiety: Range anxiety is a significant concern for potential electric vehicle (EV) adopters, as they fear running out of charge during trips. By creating a dense network of charging stations in strategic locations like residential areas, workplaces, and public spaces, cities can address these concerns and make EVs a more practical daily transportation option. Fast-charging stations can further reduce charging times, making EVs even more appealing and promoting their adoption.\n",
            "\n",
            "2. Reducing greenhouse gas emissions: Transitioning to electric vehicles (EVs) is crucial for reducing greenhouse gas emissions and mitigating climate change. A comprehensive charging infrastructure can hasten this transition by making EVs a more accessible and convenient choice for urban mobility. Cities can enhance the environmental benefits of EVs by prioritizing renewable energy sources, such as solar or wind power, for charging stations. This approach not only decreases the carbon footprint associated with EV charging but also supports the expansion of clean energy markets.\n",
            "\n",
            "3. Promoting economic growth: Investing in EV charging infrastructure can stimulate economic growth through several channels. First, the development and installation of charging stations can generate jobs and stimulate local economies. Second, by providing accessible charging options in commercial districts, cities can attract EV users, boosting business activity and revenues. Lastly, as EV adoption increases, the demand for related products and services, such as battery manufacturing and maintenance, will grow, leading to new business opportunities and further economic growth.\n"
          ]
        }
      ]
    }
  ]
}